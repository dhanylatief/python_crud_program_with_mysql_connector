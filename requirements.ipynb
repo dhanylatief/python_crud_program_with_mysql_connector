{
 "cells": [
  {
   "cell_type": "markdown",
   "metadata": {},
   "source": [
    "# Requirements:"
   ]
  },
  {
   "cell_type": "markdown",
   "metadata": {},
   "source": [
    "1. Mysql workbench 8.0 or later\n",
    "\n",
    "2. Mysql Database, provided in this repository\n",
    "\n",
    "3. Mysql connector, which can be installed using the following command in python command prompt:\n",
    "\n",
    "   pip install mysql-connector-python\n",
    "\n",
    "4. Tabulate module to visualize the data, which can be installed using the following command in python command prompt:\n",
    "   \n",
    "   pip install tabulate\n"
   ]
  }
 ],
 "metadata": {
  "language_info": {
   "name": "python"
  }
 },
 "nbformat": 4,
 "nbformat_minor": 2
}
